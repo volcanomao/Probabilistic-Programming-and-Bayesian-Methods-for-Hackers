{
 "cells": [
  {
   "cell_type": "markdown",
   "metadata": {},
   "source": [
    "概率编程和贝叶斯方法的黑客"
   ]
  },
  {
   "cell_type": "markdown",
   "metadata": {},
   "source": [
    "概率编程与贝叶斯方法之黑客\n",
    "#### *使用Python和PyMC*\n",
    "\n",
    "\n",
    "\n",
    "\n",
    "贝叶斯方法是推断的自然方法，但通常读者只能通过一系列缓慢的数学分析章节才能了解它。典型的贝叶斯推断文献会包括两到三章关于概率论，然后再进入贝叶斯推断的内容。不幸的是，由于大多数贝叶斯模型的数学不可解析性，读者只会看到简单的人工例子。这会让用户对贝叶斯推断产生一种无所谓的感觉。事实上，这也是作者以前的想法。\n",
    "\n",
    "在最近贝叶斯方法在机器学习竞赛中取得一些成功之后，我决定重新研究这个主题。即使我有数学背景，也花了连续三天的时间阅读例子并努力将各部分整合在一起来理解这些方法。缺乏将理论与实践联系起来的文献成了问题。 我的误解问题在于贝叶斯数学与概率编程之间的脱节。也就是说，我当时受苦才希望读者现在不必这样。这本书试图弥合这种差距。\n",
    "\n",
    "如果说贝叶斯推断是目的地，那么数学分析就是通往目的地的一条特定路径。另一方面，计算资源足够便宜，我们可以通过概率编程来采取另一种路径。后者更有用，因为它在每一步都可以避免数学干预，也就是说，我们消除对贝叶斯推断的先决条件——通常不可解析的数学分析。简而言之，这种后一种计算路径从开始到结束是通过小的中间跳跃进行的，而第一种路径则是通过巨大的跳跃进行的，往往会着陆在我们的目标远处。此外，没有坚实的数学背景，第一种路径需要的分析甚至无法进行。\n",
    "\n",
    "*黑客的贝叶斯方法*旨在作为一个从计算/理解为先，数学为后的视角介绍贝叶斯推断的入门教材。当然，作为一本入门书，我们只能将它定位为一个入门书。对于数学训练有素的人，他们可以通过其他专注于数学分析的文本满足这本书所激发的好奇心。对于数学背景较少或对数学不感兴趣而只关注贝叶斯方法实践的爱好者来说，这本书应该足够并且有趣。"
   ]
  },
  {
   "cell_type": "code",
   "execution_count": 1,
   "metadata": {
    "collapsed": false
   },
   "outputs": [
    {
     "data": {
      "text/html": [
       "<style>\n",
       "    @font-face {\n",
       "        font-family: \"Computer Modern\";\n",
       "        src: url('http://9dbb143991406a7c655e-aa5fcb0a5a4ec34cff238a2d56ca4144.r56.cf5.rackcdn.com/cmunss.otf');\n",
       "    }\n",
       "    div.cell{\n",
       "        width:800px;\n",
       "        margin-left:auto;\n",
       "        margin-right:auto;\n",
       "    }\n",
       "    h1 {\n",
       "        font-family: Helvetica, serif;\n",
       "    }\n",
       "    h4{\n",
       "        margin-top:12px;\n",
       "        margin-bottom: 3px;\n",
       "       }\n",
       "    div.text_cell_render{\n",
       "        font-family: Computer Modern, \"Helvetica Neue\", Arial, Helvetica, Geneva, sans-serif;\n",
       "        line-height: 145%;\n",
       "        font-size: 130%;\n",
       "        width:800px;\n",
       "        margin-left:auto;\n",
       "        margin-right:auto;\n",
       "    }\n",
       "    .CodeMirror{\n",
       "            font-family: \"Source Code Pro\", source-code-pro,Consolas, monospace;\n",
       "    }\n",
       "    .prompt{\n",
       "        display: None;\n",
       "    }\n",
       "    .text_cell_render h5 {\n",
       "        font-weight: 300;\n",
       "        font-size: 16pt;\n",
       "        color: #4057A1;\n",
       "        font-style: italic;\n",
       "        margin-bottom: .5em;\n",
       "        margin-top: 0.5em;\n",
       "        display: block;\n",
       "    }\n",
       "    \n",
       "    .warning{\n",
       "        color: rgb( 240, 20, 20 )\n",
       "        }\n",
       "       \n",
       "</style>\n",
       "<script>\n",
       "    MathJax.Hub.Config({\n",
       "                        TeX: {\n",
       "                           extensions: [\"AMSmath.js\"]\n",
       "                           },\n",
       "                tex2jax: {\n",
       "                    inlineMath: [ ['$','$'], [\"\\\\(\",\"\\\\)\"] ],\n",
       "                    displayMath: [ ['$$','$$'], [\"\\\\[\",\"\\\\]\"] ]\n",
       "                },\n",
       "                displayAlign: 'center', // Change this to 'center' to center equations.\n",
       "                \"HTML-CSS\": {\n",
       "                    styles: {'.MathJax_Display': {\"margin\": 4}}\n",
       "                }\n",
       "        });\n",
       "</script>"
      ],
      "text/plain": [
       "<IPython.core.display.HTML at 0x5136f98>"
      ]
     },
     "execution_count": 1,
     "metadata": {},
     "output_type": "execute_result"
    }
   ],
   "source": [
    "from IPython.core.display import HTML\n",
    "\n",
    "\n",
    "def css_styling():\n",
    "    styles = open(\"../styles/custom.css\", \"r\").read()\n",
    "    return HTML(styles)\n",
    "css_styling()"
   ]
  },
  {
   "cell_type": "code",
   "execution_count": null,
   "metadata": {
    "collapsed": false
   },
   "outputs": [],
   "source": []
  }
 ],
 "metadata": {
  "kernelspec": {
   "display_name": "Python 2",
   "language": "python",
   "name": "python2"
  },
  "language_info": {
   "codemirror_mode": {
    "name": "ipython",
    "version": 2
   },
   "file_extension": ".py",
   "mimetype": "text/x-python",
   "name": "python",
   "nbconvert_exporter": "python",
   "pygments_lexer": "ipython2",
   "version": "2.7.11"
  }
 },
 "nbformat": 4,
 "nbformat_minor": 0
}
