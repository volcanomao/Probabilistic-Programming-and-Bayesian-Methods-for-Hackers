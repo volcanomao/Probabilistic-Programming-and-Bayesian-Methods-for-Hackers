{
 "cells": [
  {
   "cell_type": "markdown",
   "id": "a8bb3eba",
   "metadata": {},
   "source": [
    "###逻辑回归的贝叶斯因子"
   ]
  },
  {
   "cell_type": "markdown",
   "id": "b3fc5c41",
   "metadata": {},
   "source": [
    "#####失败和温度之间真的有关系吗？\n",
    "\n",
    "对我们上面分析的批评是*假设*了关系遵循一个logistic模型，这样我们暗含地假设了概率会随温度改变。让我们再次看一下数据。（上图）\n",
    "\n",
    "有可能实际上这个特定的缺陷序列只是偶然发生的吗？毕竟，我也可以得到类似的图表。（下图）这可能会解释温度之间的大幅度重叠。"
   ]
  },
  {
   "cell_type": "code",
   "execution_count": 1,
   "id": "ecc9810a",
   "metadata": {
    "collapsed": false
   },
   "outputs": [
    {
     "ename": "NameError",
     "evalue": "name 'figsize' is not defined",
     "output_type": "error",
     "traceback": [
      "\u001b[1;31m---------------------------------------------------------------------------\u001b[0m\n\u001b[1;31mNameError\u001b[0m                                 Traceback (most recent call last)",
      "\u001b[1;32m<ipython-input-1-a4aeded293db>\u001b[0m in \u001b[0;36m<module>\u001b[1;34m()\u001b[0m\n\u001b[1;32m----> 1\u001b[1;33m \u001b[0mfigsize\u001b[0m\u001b[1;33m(\u001b[0m \u001b[1;36m12.5\u001b[0m\u001b[1;33m,\u001b[0m \u001b[1;36m6\u001b[0m\u001b[1;33m)\u001b[0m\u001b[1;33m\u001b[0m\u001b[0m\n\u001b[0m\u001b[0;32m      2\u001b[0m \u001b[0msubplot\u001b[0m\u001b[1;33m(\u001b[0m\u001b[1;36m211\u001b[0m\u001b[1;33m)\u001b[0m\u001b[1;33m\u001b[0m\u001b[0m\n\u001b[0;32m      3\u001b[0m plt.scatter( challenger_data[:,0], challenger_data[:,1], s = 75, \\\n\u001b[0;32m      4\u001b[0m     color=\"k\", alpha = 0.5) \n\u001b[0;32m      5\u001b[0m \u001b[0mplt\u001b[0m\u001b[1;33m.\u001b[0m\u001b[0myticks\u001b[0m\u001b[1;33m(\u001b[0m\u001b[1;33m[\u001b[0m\u001b[1;36m0\u001b[0m\u001b[1;33m,\u001b[0m\u001b[1;36m1\u001b[0m\u001b[1;33m]\u001b[0m\u001b[1;33m)\u001b[0m\u001b[1;33m\u001b[0m\u001b[0m\n",
      "\u001b[1;31mNameError\u001b[0m: name 'figsize' is not defined"
     ]
    }
   ],
   "source": [
    "figsize(12.5, 6)\n",
    "subplot(211)\n",
    "plt.scatter(challenger_data[:, 0], challenger_data[:, 1], s=75,\n",
    "            color=\"k\", alpha=0.5)\n",
    "plt.yticks([0, 1])\n",
    "plt.ylabel(\"Damage Incident?\")\n",
    "plt.title(\"(Real) Defects of the Space Shuttle O-Rings vs temperature\")\n",
    "\n",
    "subplot(212)\n",
    "n = challenger_data.shape[0]\n",
    "plt.scatter(challenger_data[:, 0], stats.bernoulli.rvs(0.6, size=n),\n",
    "            s=75, color=\"k\", alpha=0.5)\n",
    "plt.yticks([0, 1])\n",
    "plt.ylabel(\"Damage Incident?\")\n",
    "plt.xlabel(\"Outside temperature (Farhenhit)\")\n",
    "plt.title(\"(Artificial) Defects of the Space Shuttle O-Rings vs \\\n",
    "temperature\")"
   ]
  },
  {
   "cell_type": "markdown",
   "id": "1c1a7524",
   "metadata": {},
   "source": [
    "引入贝叶斯因子\n",
    "\n",
    "*贝叶斯因子*是比较两个模型的一种度量。在我们的例子中，一方面我们相信温度在O型环故障的概率中起着重要作用。另一方面，我们认为没有显著联系，而模式只是偶然出现。我们可以通过比较*观测数据的概率，给定模型*的比率来比较这些模型：\n",
    "\n",
    "$$ \\frac{ P( \\text{观测数据} | \\text{模型}_1 ) }{  P( \\text{观测数据} | \\text{模型}_2 ) }$$\n",
    "\n",
    "计算这个并不明显。为简单起见，让我们从后验分布中选择一组参数（这相当于选择特定的模型）。"
   ]
  },
  {
   "cell_type": "code",
   "execution_count": 2,
   "id": "be47fe38",
   "metadata": {
    "collapsed": false
   },
   "outputs": [
    {
     "ename": "NameError",
     "evalue": "name 'alpha_samples' is not defined",
     "output_type": "error",
     "traceback": [
      "\u001b[1;31m---------------------------------------------------------------------------\u001b[0m\n\u001b[1;31mNameError\u001b[0m                                 Traceback (most recent call last)",
      "\u001b[1;32m<ipython-input-2-bf332447957b>\u001b[0m in \u001b[0;36m<module>\u001b[1;34m()\u001b[0m\n\u001b[1;32m----> 1\u001b[1;33m \u001b[0malpha_hat\u001b[0m \u001b[1;33m=\u001b[0m \u001b[0malpha_samples\u001b[0m\u001b[1;33m[\u001b[0m\u001b[1;36m0\u001b[0m\u001b[1;33m,\u001b[0m\u001b[1;36m0\u001b[0m\u001b[1;33m]\u001b[0m \u001b[1;31m#select the first alpha sample\u001b[0m\u001b[1;33m\u001b[0m\u001b[0m\n\u001b[0m\u001b[0;32m      2\u001b[0m \u001b[0mbeta_hat\u001b[0m \u001b[1;33m=\u001b[0m \u001b[0mbeta_samples\u001b[0m\u001b[1;33m[\u001b[0m\u001b[1;36m0\u001b[0m\u001b[1;33m,\u001b[0m\u001b[1;36m0\u001b[0m\u001b[1;33m]\u001b[0m \u001b[1;31m#select the first beta sample\u001b[0m\u001b[1;33m\u001b[0m\u001b[0m\n\u001b[0;32m      3\u001b[0m \u001b[1;33m\u001b[0m\u001b[0m\n\u001b[0;32m      4\u001b[0m \u001b[0mp_hat\u001b[0m \u001b[1;33m=\u001b[0m \u001b[0mlogistic\u001b[0m\u001b[1;33m(\u001b[0m \u001b[0mtemperature\u001b[0m\u001b[1;33m,\u001b[0m \u001b[0mbeta_hat\u001b[0m\u001b[1;33m,\u001b[0m \u001b[0malpha_hat\u001b[0m\u001b[1;33m)\u001b[0m\u001b[1;33m\u001b[0m\u001b[0m\n\u001b[0;32m      5\u001b[0m \u001b[1;32mprint\u001b[0m \u001b[1;34m\"estimates of probability at observed temperature, defects: \"\u001b[0m\u001b[1;33m\u001b[0m\u001b[0m\n",
      "\u001b[1;31mNameError\u001b[0m: name 'alpha_samples' is not defined"
     ]
    }
   ],
   "source": [
    "alpha_hat = alpha_samples[0, 0]  # select the first alpha sample\n",
    "beta_hat = beta_samples[0, 0]  # select the first beta sample\n",
    "\n",
    "p_hat = logistic(temperature, beta_hat, alpha_hat)\n",
    "print \"estimates of probability at observed temperature, defects: \"\n",
    "print np.array(zip(p_hat, temperature, D))[:3, :]\n",
    "print \"...\""
   ]
  },
  {
   "cell_type": "markdown",
   "id": "0df401ea",
   "metadata": {},
   "source": [
    "为了计算贝叶斯因子中的分子，我们首先**假定一个模型**，在我们的情况下假定`alpha_hat`，`beta_hat`是真实的，并计算我们观察到的缺陷的概率，等于以下乘积：\n",
    "\n",
    "$$ P(\\; \\text{Ber}(\\; p(t_i \\; | \\; \\hat{\\beta}, \\hat{\\alpha} )\\; ) = D_i \\; ),\\;\\; i=1..N $$\n",
    "\n",
    "例如，使用上述输出，第一个计算，$i=0$，如下所示\n",
    "\n",
    "\\begin{align}\n",
    "& p = p(t_1 \\; | \\; \\hat{\\beta}, \\hat{\\alpha} ) = 0.667 \\\\\\\\\n",
    "& d = D_0 = 0 \\\\\\\\\n",
    "& \\Rightarrow \\; P( \\; \\text{Ber}(p) = d ) = ?? \n",
    "\\end{align}\n",
    "\n",
    "这种情况发生的概率为$(1-0.667) = 0.333\\; $（回想伯努利随机变量$\\text{Ber}(p)$的定义：它以概率$p$等于1，以概率$1-p$等于0）。由于每个观察是独立的，我们将所有观察结果相乘。对于特定的$i$，一种聪明的方法是，回想$D_i$只能是1或0：\n",
    "\n",
    "$$\\left( p(t_1 \\; | \\; \\hat{\\beta}, \\hat{\\alpha} )\\right)^{D_i} \\left( 1 - p(t_1 \\; | \\; \\hat{\\beta}, \\hat{\\alpha} ) \\right)^{(1-D_i)}$$\n",
    "\n",
    "\n",
    "（这个数量可能会溢出，所以建议取上述的$\\log$：\n",
    "\n",
    "$$ D_i\\log( p(t_1 \\; | \\; \\hat{\\beta}, \\hat{\\alpha} ) ) + (1-D_i)\\log( 1- p(t_1 \\; | \\; \\hat{\\beta}, \\hat{\\alpha} ) ) $$\n",
    "\n",
    "并对项求和而不是相乘。确保对比的两个模型都使用这个转换。）"
   ]
  },
  {
   "cell_type": "code",
   "execution_count": 3,
   "id": "cbd9daad",
   "metadata": {
    "collapsed": false
   },
   "outputs": [
    {
     "ename": "NameError",
     "evalue": "name 'p_hat' is not defined",
     "output_type": "error",
     "traceback": [
      "\u001b[1;31m---------------------------------------------------------------------------\u001b[0m\n\u001b[1;31mNameError\u001b[0m                                 Traceback (most recent call last)",
      "\u001b[1;32m<ipython-input-3-be149a40cb07>\u001b[0m in \u001b[0;36m<module>\u001b[1;34m()\u001b[0m\n\u001b[1;32m----> 1\u001b[1;33m \u001b[1;32mprint\u001b[0m \u001b[0mp_hat\u001b[0m\u001b[1;33m\u001b[0m\u001b[0m\n\u001b[0m\u001b[0;32m      2\u001b[0m \u001b[0m_product\u001b[0m \u001b[1;33m=\u001b[0m \u001b[0mp_hat\u001b[0m\u001b[1;33m**\u001b[0m\u001b[1;33m(\u001b[0m \u001b[0mD\u001b[0m \u001b[1;33m)\u001b[0m\u001b[1;33m*\u001b[0m\u001b[1;33m(\u001b[0m\u001b[1;36m1\u001b[0m\u001b[1;33m-\u001b[0m\u001b[0mp_hat\u001b[0m\u001b[1;33m)\u001b[0m\u001b[1;33m**\u001b[0m\u001b[1;33m(\u001b[0m\u001b[1;36m1\u001b[0m\u001b[1;33m-\u001b[0m\u001b[0mD\u001b[0m\u001b[1;33m)\u001b[0m\u001b[1;33m\u001b[0m\u001b[0m\n\u001b[0;32m      3\u001b[0m \u001b[0mprob_given_model_1\u001b[0m \u001b[1;33m=\u001b[0m \u001b[0m_product\u001b[0m\u001b[1;33m.\u001b[0m\u001b[0mprod\u001b[0m\u001b[1;33m(\u001b[0m\u001b[1;33m)\u001b[0m\u001b[1;33m\u001b[0m\u001b[0m\n\u001b[0;32m      4\u001b[0m \u001b[1;32mprint\u001b[0m \u001b[1;34m\"probability of observations, model 1: %.10f\"\u001b[0m\u001b[1;33m%\u001b[0m\u001b[0mprob_given_model_1\u001b[0m\u001b[1;33m\u001b[0m\u001b[0m\n",
      "\u001b[1;31mNameError\u001b[0m: name 'p_hat' is not defined"
     ]
    }
   ],
   "source": [
    "print p_hat\n",
    "_product = p_hat ** (D) * (1 - p_hat) ** (1 - D)\n",
    "prob_given_model_1 = _product.prod()\n",
    "print \"probability of observations, model 1: %.10f\" % prob_given_model_1"
   ]
  },
  {
   "cell_type": "markdown",
   "id": "f9adc9bb",
   "metadata": {},
   "source": [
    "我们正在与之比较的第二个模型是$\\beta=0$，也就是说，概率和温度之间没有关系。我们执行与上面相同的计算。请注意，在下面的PyMC代码中，`beta=0`。"
   ]
  },
  {
   "cell_type": "code",
   "execution_count": 4,
   "id": "824c3fa5",
   "metadata": {
    "collapsed": false
   },
   "outputs": [
    {
     "ename": "NameError",
     "evalue": "name 'mc' is not defined",
     "output_type": "error",
     "traceback": [
      "\u001b[1;31m---------------------------------------------------------------------------\u001b[0m\n\u001b[1;31mNameError\u001b[0m                                 Traceback (most recent call last)",
      "\u001b[1;32m<ipython-input-4-2fd082360270>\u001b[0m in \u001b[0;36m<module>\u001b[1;34m()\u001b[0m\n\u001b[0;32m      1\u001b[0m \u001b[0mbeta\u001b[0m \u001b[1;33m=\u001b[0m \u001b[1;36m0\u001b[0m\u001b[1;33m\u001b[0m\u001b[0m\n\u001b[1;32m----> 2\u001b[1;33m \u001b[0malpha\u001b[0m \u001b[1;33m=\u001b[0m \u001b[0mmc\u001b[0m\u001b[1;33m.\u001b[0m\u001b[0mNormal\u001b[0m\u001b[1;33m(\u001b[0m \u001b[1;34m\"alpha\"\u001b[0m\u001b[1;33m,\u001b[0m \u001b[1;36m0\u001b[0m\u001b[1;33m,\u001b[0m \u001b[1;36m0.001\u001b[0m\u001b[1;33m,\u001b[0m \u001b[0mvalue\u001b[0m \u001b[1;33m=\u001b[0m \u001b[1;36m0\u001b[0m \u001b[1;33m)\u001b[0m\u001b[1;33m\u001b[0m\u001b[0m\n\u001b[0m\u001b[0;32m      3\u001b[0m \u001b[1;33m\u001b[0m\u001b[0m\n\u001b[0;32m      4\u001b[0m \u001b[1;33m@\u001b[0m\u001b[0mmc\u001b[0m\u001b[1;33m.\u001b[0m\u001b[0mdeterministic\u001b[0m\u001b[1;33m\u001b[0m\u001b[0m\n\u001b[0;32m      5\u001b[0m \u001b[1;32mdef\u001b[0m \u001b[0mp\u001b[0m\u001b[1;33m(\u001b[0m \u001b[0mtemp\u001b[0m \u001b[1;33m=\u001b[0m \u001b[0mtemperature\u001b[0m\u001b[1;33m,\u001b[0m \u001b[0malpha\u001b[0m \u001b[1;33m=\u001b[0m \u001b[0malpha\u001b[0m\u001b[1;33m,\u001b[0m \u001b[0mbeta\u001b[0m \u001b[1;33m=\u001b[0m \u001b[0mbeta\u001b[0m\u001b[1;33m)\u001b[0m\u001b[1;33m:\u001b[0m\u001b[1;33m\u001b[0m\u001b[0m\n",
      "\u001b[1;31mNameError\u001b[0m: name 'mc' is not defined"
     ]
    }
   ],
   "source": [
    "beta = 0\n",
    "alpha = pm.Normal(\"alpha\", 0, 0.001, value=0)\n",
    "\n",
    "\n",
    "@pm.deterministic\n",
    "def p(temp=temperature, alpha=alpha, beta=beta):\n",
    "    return 1.0 / (1. + np.exp(beta * temperature + alpha))\n",
    "\n",
    "\n",
    "observed = pm.Bernoulli(\"bernoulli_obs\", p,\n",
    "                        value=D, observed=True)\n",
    "\n",
    "model = pm.Model({\"observed\": observed, \"beta\": beta, \"alpha\": alpha})\n",
    "\n",
    "# mysterious code to be explained in Chapter 3\n",
    "map_ = pm.MAP(model)\n",
    "map_.fit()\n",
    "mcmc = pm.MCMC(model)\n",
    "mcmc.sample(260000, 220000, 3)\n",
    "######\n",
    "\n",
    "alpha_samples_model_2 = mcmc.trace(\"alpha\")[:, None]\n",
    "alpha_hat = alpha_samples_model_2[0]  # use the first 'model'\n",
    "beta_hat = 0\n",
    "\n",
    "p_hat = logistic(temperature, beta_hat, alpha_hat)\n",
    "print \"estimates of probability at observed temperature, defects: \"\n",
    "print np.array(zip(p_hat, temperature, D))[:3, :]\n",
    "print\n",
    "print \"Notice the probability is constant for all temperatures?\""
   ]
  },
  {
   "cell_type": "code",
   "execution_count": 5,
   "id": "918da448",
   "metadata": {
    "collapsed": false
   },
   "outputs": [
    {
     "ename": "NameError",
     "evalue": "name 'p_hat' is not defined",
     "output_type": "error",
     "traceback": [
      "\u001b[1;31m---------------------------------------------------------------------------\u001b[0m\n\u001b[1;31mNameError\u001b[0m                                 Traceback (most recent call last)",
      "\u001b[1;32m<ipython-input-5-de7da8dccc70>\u001b[0m in \u001b[0;36m<module>\u001b[1;34m()\u001b[0m\n\u001b[0;32m      1\u001b[0m \u001b[1;31m#compute the probability of observations given the model_2\u001b[0m\u001b[1;33m\u001b[0m\u001b[1;33m\u001b[0m\u001b[0m\n\u001b[0;32m      2\u001b[0m \u001b[1;33m\u001b[0m\u001b[0m\n\u001b[1;32m----> 3\u001b[1;33m \u001b[0m_product\u001b[0m \u001b[1;33m=\u001b[0m \u001b[0mp_hat\u001b[0m\u001b[1;33m**\u001b[0m\u001b[1;33m(\u001b[0m \u001b[0mD\u001b[0m \u001b[1;33m)\u001b[0m\u001b[1;33m*\u001b[0m\u001b[1;33m(\u001b[0m\u001b[1;36m1\u001b[0m\u001b[1;33m-\u001b[0m\u001b[0mp_hat\u001b[0m\u001b[1;33m)\u001b[0m\u001b[1;33m**\u001b[0m\u001b[1;33m(\u001b[0m\u001b[1;36m1\u001b[0m\u001b[1;33m-\u001b[0m\u001b[0mD\u001b[0m\u001b[1;33m)\u001b[0m\u001b[1;33m\u001b[0m\u001b[0m\n\u001b[0m\u001b[0;32m      4\u001b[0m \u001b[0mprob_given_model_2\u001b[0m \u001b[1;33m=\u001b[0m \u001b[0m_product\u001b[0m\u001b[1;33m.\u001b[0m\u001b[0mprod\u001b[0m\u001b[1;33m(\u001b[0m\u001b[1;33m)\u001b[0m\u001b[1;33m\u001b[0m\u001b[0m\n\u001b[0;32m      5\u001b[0m \u001b[1;32mprint\u001b[0m \u001b[1;34m\"probability of observations, model 2: %.10f\"\u001b[0m\u001b[1;33m%\u001b[0m\u001b[0mprob_given_model_2\u001b[0m\u001b[1;33m\u001b[0m\u001b[0m\n",
      "\u001b[1;31mNameError\u001b[0m: name 'p_hat' is not defined"
     ]
    }
   ],
   "source": [
    "# compute the probability of observations given the model_2\n",
    "\n",
    "_product = p_hat ** (D) * (1 - p_hat) ** (1 - D)\n",
    "prob_given_model_2 = _product.prod()\n",
    "print \"probability of observations, model 2: %.10f\" % prob_given_model_2"
   ]
  },
  {
   "cell_type": "code",
   "execution_count": 7,
   "id": "6cc9c5f9",
   "metadata": {
    "collapsed": false
   },
   "outputs": [
    {
     "ename": "NameError",
     "evalue": "name 'prob_given_model_1' is not defined",
     "output_type": "error",
     "traceback": [
      "\u001b[1;31m---------------------------------------------------------------------------\u001b[0m\n\u001b[1;31mNameError\u001b[0m                                 Traceback (most recent call last)",
      "\u001b[1;32m<ipython-input-7-c40e6307b245>\u001b[0m in \u001b[0;36m<module>\u001b[1;34m()\u001b[0m\n\u001b[1;32m----> 1\u001b[1;33m \u001b[1;32mprint\u001b[0m \u001b[1;34m\"Bayes factor = %.3f\"\u001b[0m\u001b[1;33m%\u001b[0m\u001b[1;33m(\u001b[0m\u001b[0mprob_given_model_1\u001b[0m\u001b[1;33m/\u001b[0m\u001b[0mprob_given_model_2\u001b[0m\u001b[1;33m)\u001b[0m\u001b[1;33m\u001b[0m\u001b[0m\n\u001b[0m",
      "\u001b[1;31mNameError\u001b[0m: name 'prob_given_model_1' is not defined"
     ]
    }
   ],
   "source": [
    "print \"Bayes factor = %.3f\" % (prob_given_model_1 / prob_given_model_2)"
   ]
  },
  {
   "cell_type": "markdown",
   "id": "504f7e03",
   "metadata": {},
   "source": [
    "这个好吗？下面是一个可以用来比较计算得出的贝叶斯因子与对M1的置信度的图表。\n",
    "\n",
    " 我们还没有完成。如果您记得，我们只选了一个模型，但请记得我们实际上有可能的模型分布（从后验分布中的顺序对（β，α）中）。因此，为了正确，我们需要对后验样本进行平均："
   ]
  },
  {
   "cell_type": "code",
   "execution_count": 9,
   "id": "9b9d8ac5",
   "metadata": {
    "collapsed": false
   },
   "outputs": [
    {
     "ename": "NameError",
     "evalue": "name 'logistic' is not defined",
     "output_type": "error",
     "traceback": [
      "\u001b[1;31m---------------------------------------------------------------------------\u001b[0m\n\u001b[1;31mNameError\u001b[0m                                 Traceback (most recent call last)",
      "\u001b[1;32m<ipython-input-9-5e4bf3a1b066>\u001b[0m in \u001b[0;36m<module>\u001b[1;34m()\u001b[0m\n\u001b[1;32m----> 1\u001b[1;33m \u001b[0mp\u001b[0m \u001b[1;33m=\u001b[0m \u001b[0mlogistic\u001b[0m\u001b[1;33m(\u001b[0m \u001b[0mtemperature\u001b[0m\u001b[1;33m[\u001b[0m\u001b[0mNone\u001b[0m\u001b[1;33m,\u001b[0m\u001b[1;33m:\u001b[0m\u001b[1;33m]\u001b[0m\u001b[1;33m,\u001b[0m \u001b[0mbeta_samples\u001b[0m\u001b[1;33m,\u001b[0m \u001b[0malpha_samples\u001b[0m \u001b[1;33m)\u001b[0m\u001b[1;33m\u001b[0m\u001b[0m\n\u001b[0m\u001b[0;32m      2\u001b[0m \u001b[0m_product\u001b[0m \u001b[1;33m=\u001b[0m \u001b[0mp\u001b[0m\u001b[1;33m**\u001b[0m\u001b[1;33m(\u001b[0m \u001b[0mD\u001b[0m \u001b[1;33m)\u001b[0m\u001b[1;33m*\u001b[0m\u001b[1;33m(\u001b[0m\u001b[1;36m1\u001b[0m\u001b[1;33m-\u001b[0m\u001b[0mp\u001b[0m\u001b[1;33m)\u001b[0m\u001b[1;33m**\u001b[0m\u001b[1;33m(\u001b[0m\u001b[1;36m1\u001b[0m\u001b[1;33m-\u001b[0m\u001b[0mD\u001b[0m\u001b[1;33m)\u001b[0m\u001b[1;33m\u001b[0m\u001b[0m\n\u001b[0;32m      3\u001b[0m \u001b[0mprob_given_model_1\u001b[0m \u001b[1;33m=\u001b[0m \u001b[0m_product\u001b[0m\u001b[1;33m.\u001b[0m\u001b[0mprod\u001b[0m\u001b[1;33m(\u001b[0m\u001b[0maxis\u001b[0m\u001b[1;33m=\u001b[0m\u001b[1;36m1\u001b[0m\u001b[1;33m)\u001b[0m\u001b[1;33m.\u001b[0m\u001b[0mmean\u001b[0m\u001b[1;33m(\u001b[0m\u001b[1;33m)\u001b[0m\u001b[1;33m\u001b[0m\u001b[0m\n\u001b[0;32m      4\u001b[0m \u001b[1;32mprint\u001b[0m \u001b[1;34m\"expected prob. of obs., given model 1: %.10f\"\u001b[0m\u001b[1;33m%\u001b[0m\u001b[0mprob_given_model_1\u001b[0m\u001b[1;33m\u001b[0m\u001b[0m\n\u001b[0;32m      5\u001b[0m \u001b[1;33m\u001b[0m\u001b[0m\n",
      "\u001b[1;31mNameError\u001b[0m: name 'logistic' is not defined"
     ]
    }
   ],
   "source": [
    "p = logistic(temperature[None, :], beta_samples, alpha_samples)\n",
    "_product = p ** (D) * (1 - p) ** (1 - D)\n",
    "prob_given_model_1 = _product.prod(axis=1).mean()\n",
    "print \"expected prob. of obs., given model 1: %.10f\" % prob_given_model_1\n",
    "\n",
    "\n",
    "p_model_2 = logistic(temperature[:, None],\n",
    "                     np.zeros_like(temperature), alpha_samples_model_2)\n",
    "\n",
    "_product = p_model_2 ** (D) * (1 - p_model_2) ** (1 - D)\n",
    "prob_given_model_2 = _product.prod(axis=1).mean()\n",
    "print \"expected prob. of obs., given model 2: %.10f\" % prob_given_model_2\n",
    "print\n",
    "print \"Bayes factor: %.3f\" % (prob_given_model_1 / prob_given_model_2)"
   ]
  },
  {
   "cell_type": "markdown",
   "id": "0079be18",
   "metadata": {},
   "source": [
    "看起来我们有一个相当好的模型，温度确实很重要。看看你，现在你是一个火箭科学家。"
   ]
  },
  {
   "cell_type": "code",
   "execution_count": null,
   "id": "f7b06ab5",
   "metadata": {
    "collapsed": false
   },
   "outputs": [],
   "source": []
  }
 ],
 "metadata": {},
 "nbformat": 4,
 "nbformat_minor": 5
}
